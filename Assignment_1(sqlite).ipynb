{
 "cells": [
  {
   "cell_type": "code",
   "execution_count": 1,
   "id": "4dab76c6",
   "metadata": {},
   "outputs": [],
   "source": [
    "import sqlite3"
   ]
  },
  {
   "cell_type": "code",
   "execution_count": 2,
   "id": "5025f81d",
   "metadata": {},
   "outputs": [],
   "source": [
    "df = sqlite3.connect('Assignment_1(sqlite3).db')\n",
    "cursor=df.cursor()"
   ]
  },
  {
   "cell_type": "code",
   "execution_count": null,
   "id": "e28a10e6",
   "metadata": {},
   "outputs": [],
   "source": [
    "cursor.execute('''create table Ages (name VARCHAR(128), age INTEGER)''')"
   ]
  },
  {
   "cell_type": "code",
   "execution_count": 3,
   "id": "8cf63a9b",
   "metadata": {},
   "outputs": [
    {
     "data": {
      "text/plain": [
       "<sqlite3.Cursor at 0x194f2d4ccc0>"
      ]
     },
     "execution_count": 3,
     "metadata": {},
     "output_type": "execute_result"
    }
   ],
   "source": [
    "cursor.execute(\"select * from Ages\")"
   ]
  },
  {
   "cell_type": "code",
   "execution_count": 4,
   "id": "a542a632",
   "metadata": {},
   "outputs": [],
   "source": [
    "rows = cursor.fetchall()"
   ]
  },
  {
   "cell_type": "code",
   "execution_count": 5,
   "id": "ddec18c5",
   "metadata": {},
   "outputs": [],
   "source": [
    "for row in rows:\n",
    "    print(row)"
   ]
  },
  {
   "cell_type": "code",
   "execution_count": 6,
   "id": "a6e5f586",
   "metadata": {},
   "outputs": [
    {
     "data": {
      "text/plain": [
       "<sqlite3.Cursor at 0x194f2d4ccc0>"
      ]
     },
     "execution_count": 6,
     "metadata": {},
     "output_type": "execute_result"
    }
   ],
   "source": [
    "cursor.execute('''INSERT INTO Ages VALUES ('Mara', 28),\n",
    "                 ('Otto', 33),\n",
    "                 ('Fyn', 31),\n",
    "                 ('Neshawn', 17);''')"
   ]
  },
  {
   "cell_type": "code",
   "execution_count": 7,
   "id": "a3c5b7f2",
   "metadata": {},
   "outputs": [
    {
     "data": {
      "text/plain": [
       "<sqlite3.Cursor at 0x194f2d4ccc0>"
      ]
     },
     "execution_count": 7,
     "metadata": {},
     "output_type": "execute_result"
    }
   ],
   "source": [
    "cursor.execute('''select * from Ages''')"
   ]
  },
  {
   "cell_type": "code",
   "execution_count": 8,
   "id": "c223f0bc",
   "metadata": {},
   "outputs": [],
   "source": [
    "rows = cursor.fetchall()"
   ]
  },
  {
   "cell_type": "code",
   "execution_count": 9,
   "id": "174e4d82",
   "metadata": {},
   "outputs": [
    {
     "name": "stdout",
     "output_type": "stream",
     "text": [
      "('Mara', 28)\n",
      "('Otto', 33)\n",
      "('Fyn', 31)\n",
      "('Neshawn', 17)\n"
     ]
    }
   ],
   "source": [
    "for row in rows:\n",
    "    print(row)"
   ]
  },
  {
   "cell_type": "markdown",
   "id": "56393067",
   "metadata": {},
   "source": [
    "### How to show all the table results in hex encoded value"
   ]
  },
  {
   "cell_type": "code",
   "execution_count": 19,
   "id": "5c7e73ff",
   "metadata": {},
   "outputs": [
    {
     "data": {
      "text/plain": [
       "<sqlite3.Cursor at 0x194f2d4ccc0>"
      ]
     },
     "execution_count": 19,
     "metadata": {},
     "output_type": "execute_result"
    }
   ],
   "source": [
    "cursor.execute('''SELECT hex(name || age) AS X FROM Ages ORDER BY X''')"
   ]
  },
  {
   "cell_type": "code",
   "execution_count": 20,
   "id": "bffdfffc",
   "metadata": {},
   "outputs": [],
   "source": [
    "rows = cursor.fetchall()"
   ]
  },
  {
   "cell_type": "code",
   "execution_count": 21,
   "id": "ab503a61",
   "metadata": {},
   "outputs": [
    {
     "name": "stdout",
     "output_type": "stream",
     "text": [
      "('46796E3331',)\n",
      "('4D6172613238',)\n",
      "('4E65736861776E3137',)\n",
      "('4F74746F3333',)\n"
     ]
    }
   ],
   "source": [
    "for row in rows:\n",
    "    print(row)"
   ]
  },
  {
   "cell_type": "markdown",
   "id": "f474b0e6",
   "metadata": {},
   "source": [
    "### HOw to print only first row"
   ]
  },
  {
   "cell_type": "code",
   "execution_count": 13,
   "id": "c0ff53c1",
   "metadata": {},
   "outputs": [
    {
     "data": {
      "text/plain": [
       "<sqlite3.Cursor at 0x194f2d4ccc0>"
      ]
     },
     "execution_count": 13,
     "metadata": {},
     "output_type": "execute_result"
    }
   ],
   "source": [
    "cursor.execute('''select * from ages limit 1''')"
   ]
  },
  {
   "cell_type": "code",
   "execution_count": 14,
   "id": "207e6160",
   "metadata": {},
   "outputs": [],
   "source": [
    "rows = cursor.fetchone()"
   ]
  },
  {
   "cell_type": "code",
   "execution_count": 15,
   "id": "54ad17ac",
   "metadata": {},
   "outputs": [
    {
     "name": "stdout",
     "output_type": "stream",
     "text": [
      "Mara\n",
      "28\n"
     ]
    }
   ],
   "source": [
    "for row in rows:\n",
    "    print(row)"
   ]
  },
  {
   "cell_type": "markdown",
   "id": "789052a1",
   "metadata": {},
   "source": [
    "### HOw to show only the first row in hex encoded value"
   ]
  },
  {
   "cell_type": "code",
   "execution_count": 22,
   "id": "7995a7db",
   "metadata": {},
   "outputs": [
    {
     "data": {
      "text/plain": [
       "<sqlite3.Cursor at 0x194f2d4ccc0>"
      ]
     },
     "execution_count": 22,
     "metadata": {},
     "output_type": "execute_result"
    }
   ],
   "source": [
    "cursor.execute('''SELECT hex(name || age) AS X FROM Ages ORDER BY X limit 1''')"
   ]
  },
  {
   "cell_type": "code",
   "execution_count": 23,
   "id": "8e83953d",
   "metadata": {},
   "outputs": [],
   "source": [
    "rows = cursor.fetchall()"
   ]
  },
  {
   "cell_type": "code",
   "execution_count": 24,
   "id": "9173a9c1",
   "metadata": {},
   "outputs": [
    {
     "name": "stdout",
     "output_type": "stream",
     "text": [
      "('46796E3331',)\n"
     ]
    }
   ],
   "source": [
    "for row in rows:\n",
    "    print(row)"
   ]
  },
  {
   "cell_type": "markdown",
   "id": "559ddceb",
   "metadata": {},
   "source": [
    "### How to create a virtual table and showing the hex encoded value only for first row"
   ]
  },
  {
   "cell_type": "code",
   "execution_count": 25,
   "id": "485442f9",
   "metadata": {},
   "outputs": [
    {
     "data": {
      "text/plain": [
       "<sqlite3.Cursor at 0x194f2d4ccc0>"
      ]
     },
     "execution_count": 25,
     "metadata": {},
     "output_type": "execute_result"
    }
   ],
   "source": [
    "cursor.execute('''create view vhex as SELECT hex(name || age) AS X FROM Ages ORDER BY X''')"
   ]
  },
  {
   "cell_type": "code",
   "execution_count": 26,
   "id": "daea566e",
   "metadata": {},
   "outputs": [
    {
     "data": {
      "text/plain": [
       "<sqlite3.Cursor at 0x194f2d4ccc0>"
      ]
     },
     "execution_count": 26,
     "metadata": {},
     "output_type": "execute_result"
    }
   ],
   "source": [
    "cursor.execute('''select * from vhex limit 1''')"
   ]
  },
  {
   "cell_type": "code",
   "execution_count": 27,
   "id": "0e6d7e04",
   "metadata": {},
   "outputs": [],
   "source": [
    "rows = cursor.fetchall()"
   ]
  },
  {
   "cell_type": "code",
   "execution_count": 28,
   "id": "7f9a39da",
   "metadata": {},
   "outputs": [
    {
     "name": "stdout",
     "output_type": "stream",
     "text": [
      "('46796E3331',)\n"
     ]
    }
   ],
   "source": [
    "for row in rows:\n",
    "    print(row)"
   ]
  },
  {
   "cell_type": "code",
   "execution_count": null,
   "id": "80cb074e",
   "metadata": {},
   "outputs": [],
   "source": []
  }
 ],
 "metadata": {
  "kernelspec": {
   "display_name": "Python 3 (ipykernel)",
   "language": "python",
   "name": "python3"
  },
  "language_info": {
   "codemirror_mode": {
    "name": "ipython",
    "version": 3
   },
   "file_extension": ".py",
   "mimetype": "text/x-python",
   "name": "python",
   "nbconvert_exporter": "python",
   "pygments_lexer": "ipython3",
   "version": "3.11.5"
  }
 },
 "nbformat": 4,
 "nbformat_minor": 5
}
